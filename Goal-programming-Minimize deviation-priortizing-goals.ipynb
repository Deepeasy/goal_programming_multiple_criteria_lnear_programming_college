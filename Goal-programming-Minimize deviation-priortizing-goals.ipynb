{
 "cells": [
  {
   "cell_type": "code",
   "execution_count": 27,
   "id": "524ccf8c",
   "metadata": {
    "ExecuteTime": {
     "end_time": "2024-10-23T11:19:08.918670Z",
     "start_time": "2024-10-23T11:19:08.876531Z"
    }
   },
   "outputs": [
    {
     "name": "stdout",
     "output_type": "stream",
     "text": [
      "Model Status:Optimal\n",
      "Objective =  300.0\n",
      "X1 = 0.0\n",
      "X2 = 100.0\n",
      "  Name      Constraint  shadow price  slack\n",
      "0  _C1  {X1: 1, X2: 1}          -0.0   -0.0\n",
      "1  _C2  {X1: 4, X2: 1}          -0.0  100.0\n"
     ]
    }
   ],
   "source": [
    "from pulp import *\n",
    "import pandas as pd\n",
    "# Initialize Class, Define Vars., and Objective\n",
    "model = LpProblem(\"Warehouse_Management\",LpMaximize)\n",
    "# Initialize Class, Define Vars., and Objective\n",
    "model = LpProblem(\"Warehouse_Management\",LpMaximize)\n",
    "\n",
    "# Define variables\n",
    "X1 = LpVariable('X1', lowBound=0,cat='Integer')\n",
    "X2 = LpVariable('X2', lowBound=0,cat='Integer')\n",
    "\n",
    "\n",
    "# Define Objetive Function: Profit on Product X1 and X2\n",
    "model += 2 * X1 + 3 * X2 \n",
    "\n",
    "# Constraint 1..ie labour\n",
    "model += X1 + X2 <= 100 # update its value\n",
    "\n",
    "# Constraint 2 ie storage\n",
    "model += 4 * X1 + 1 * X2 <= 200\n",
    "\n",
    "\n",
    "# Solve Model\n",
    "model.solve()\n",
    "\n",
    "print(\"Model Status:{}\".format(LpStatus[model.status]))\n",
    "print(\"Objective = \", value(model.objective))\n",
    "\n",
    "for v in model.variables():\n",
    "    print(v.name,\"=\", v.varValue)\n",
    "    \n",
    "o = [{'Name':name,'Constraint':c,'shadow price':c.pi,'slack': c.slack} for name, c in model.constraints.items()]\n",
    "\n",
    "print(pd.DataFrame(o))"
   ]
  },
  {
   "cell_type": "code",
   "execution_count": 28,
   "id": "32fcc41a",
   "metadata": {
    "ExecuteTime": {
     "end_time": "2024-10-23T11:19:08.934698Z",
     "start_time": "2024-10-23T11:19:08.921184Z"
    }
   },
   "outputs": [],
   "source": [
    "#In this that it is optimal to produce X2=100 and storage contraint is underutilized by 100 as slack is 100"
   ]
  },
  {
   "cell_type": "code",
   "execution_count": 29,
   "id": "afce3f53",
   "metadata": {
    "ExecuteTime": {
     "end_time": "2024-10-23T11:19:08.982023Z",
     "start_time": "2024-10-23T11:19:08.937039Z"
    }
   },
   "outputs": [
    {
     "name": "stdout",
     "output_type": "stream",
     "text": [
      "Model Status:Optimal\n",
      "Objective =  47.0\n",
      "X1 = 49.0\n",
      "X2 = 4.0\n",
      "d1a = 0.0\n",
      "d1b = 47.0\n",
      "d2a = 0.0\n",
      "d2b = 0.0\n",
      "d3a = 0.0\n",
      "d3b = 0.0\n",
      "  Name                       Constraint  shadow price  slack\n",
      "0  _C1  {X1: 1, X2: 1, d1b: 1, d1a: -1}           0.0   -0.0\n",
      "1  _C2  {X1: 4, X2: 1, d2b: 1, d2a: -1}           0.0   -0.0\n",
      "2  _C3  {X1: 2, X2: 3, d3b: 1, d3a: -1}           0.0   -0.0\n"
     ]
    }
   ],
   "source": [
    "#Consider a scenario where a profit of 110 should be achieved..We have a scenario\n",
    "\n",
    "from pulp import *\n",
    "import pandas as pd\n",
    "\n",
    "# Initialize Class, Define Vars., and Objective\n",
    "model = LpProblem(\"Warehouse_Management\",LpMinimize)\n",
    "\n",
    "# Define variables\n",
    "X1 = LpVariable('X1', lowBound=0,cat='Integer')\n",
    "X2 = LpVariable('X2', lowBound=0,cat='Integer')\n",
    "d1a= LpVariable('d1a', lowBound=0,cat='Integer')#Labour constraint is overachieved\n",
    "d1b= LpVariable('d1b', lowBound=0,cat='Integer')#Labour constraint is underachieved\n",
    "d2a= LpVariable('d2a', lowBound=0,cat='Integer')#Storage constraint is overachieved\n",
    "d2b= LpVariable('d2b', lowBound=0,cat='Integer')#Storage constraint is underachieved\n",
    "d3a= LpVariable('d3a', lowBound=0,cat='Integer')#Profit constraint is overachieved\n",
    "d3b= LpVariable('d3b', lowBound=0,cat='Integer')#Profit constraint is underachieved\n",
    "\n",
    "# Define Objetive Function: Profit on Product X1 and X2\n",
    "model += d1a+ d1b+d2a+d2b+d3a+d3b \n",
    "\n",
    "# Constraint 1..ie labour\n",
    "model += X1 + X2 +d1b- d1a == 100 \n",
    "\n",
    "# Constraint 2 ie storage\n",
    "model += 4 * X1 + 1 * X2 + d2b -d2a == 200\n",
    "\n",
    "\n",
    "# Constraint 2 ie profit\n",
    "model += 2 * X1 + 3 * X2 + d3b -d3a == 110\n",
    "\n",
    "# Solve Model\n",
    "model.solve()\n",
    "\n",
    "print(\"Model Status:{}\".format(LpStatus[model.status]))\n",
    "print(\"Objective = \", value(model.objective))\n",
    "\n",
    "for v in model.variables():\n",
    "    print(v.name,\"=\", v.varValue)\n",
    "    \n",
    "o = [{'Name':name,'Constraint':c,'shadow price':c.pi,'slack': c.slack} for name, c in model.constraints.items()]\n",
    "\n",
    "print(pd.DataFrame(o))\n"
   ]
  },
  {
   "cell_type": "code",
   "execution_count": 30,
   "id": "7c5fd6e6",
   "metadata": {
    "ExecuteTime": {
     "end_time": "2024-10-23T11:19:09.025669Z",
     "start_time": "2024-10-23T11:19:08.984020Z"
    }
   },
   "outputs": [
    {
     "name": "stdout",
     "output_type": "stream",
     "text": [
      "Model Status: Optimal\n",
      "Objective Value =  1.0\n",
      "X1 = 33.0\n",
      "X2 = 67.0\n",
      "d1a = 0.0\n",
      "d1b = 0.0\n",
      "d2a = 0.0\n",
      "d2b = 1.0\n",
      "d3a = 157.0\n",
      "d3b = 0.0\n",
      "Profit =  267.0\n",
      "  Name  Shadow Price  Slack\n",
      "0  _C1           0.0   -0.0\n",
      "1  _C2           0.0   -0.0\n",
      "2  _C3           0.0   -0.0\n",
      "3  _C4           0.0   -0.0\n",
      "4  _C5           0.0   -0.0\n",
      "5  _C6           0.0   -0.0\n"
     ]
    },
    {
     "name": "stderr",
     "output_type": "stream",
     "text": [
      "C:\\Users\\DEEP SHAH\\anaconda3\\lib\\site-packages\\pulp\\pulp.py:1650: UserWarning: Overwriting previously set objective.\n",
      "  warnings.warn(\"Overwriting previously set objective.\")\n"
     ]
    }
   ],
   "source": [
    "\n",
    "\n",
    "# Define Objective Function: Penalize underutilization of labor more\n",
    "model += d1a + 2 * d1b + d2a + d2b + d3b\n",
    "\n",
    "# Constraint 1: Labour constraint\n",
    "model += X1 + X2 + d1b - d1a == 100\n",
    "\n",
    "# Constraint 2: Storage constraint\n",
    "model += 4 * X1 + 1 * X2 + d2b - d2a == 200\n",
    "\n",
    "# Constraint 3: Profit constraint\n",
    "model += 2 * X1 + 3 * X2 + d3b - d3a == 110\n",
    "\n",
    "# Solve Model\n",
    "model.solve()\n",
    "\n",
    "# Output results\n",
    "print(\"Model Status: {}\".format(LpStatus[model.status]))\n",
    "print(\"Objective Value = \", value(model.objective))\n",
    "\n",
    "# Print variable values\n",
    "for v in model.variables():\n",
    "    print(v.name, \"=\", v.varValue)\n",
    "\n",
    "# Compute profit using the solved values of X1 and X2\n",
    "profit_value = 2 * X1.varValue + 3 * X2.varValue\n",
    "print(\"Profit = \", profit_value)\n",
    "\n",
    "# Shadow prices and slacks for each constraint\n",
    "constraints_data = [{'Name': name, 'Shadow Price': c.pi, 'Slack': c.slack} for name, c in model.constraints.items()]\n",
    "print(pd.DataFrame(constraints_data))\n",
    "\n"
   ]
  },
  {
   "cell_type": "code",
   "execution_count": 31,
   "id": "a6963e23",
   "metadata": {
    "ExecuteTime": {
     "end_time": "2024-10-23T11:19:09.071327Z",
     "start_time": "2024-10-23T11:19:09.027297Z"
    }
   },
   "outputs": [
    {
     "name": "stdout",
     "output_type": "stream",
     "text": [
      "Model Status: Optimal\n",
      "Objective Value =  0.0\n",
      "X1 = 50.0\n",
      "X2 = 0.0\n",
      "d1a = 0.0\n",
      "d1b = 50.0\n",
      "d2a = 0.0\n",
      "d2b = 0.0\n",
      "d3a = 0.0\n",
      "d3b = 10.0\n",
      "Profit =  100.0\n",
      "  Name  Shadow Price  Slack\n",
      "0  _C1           0.0   -0.0\n",
      "1  _C2           0.0   -0.0\n",
      "2  _C3           0.0   -0.0\n",
      "3  _C4           0.0   -0.0\n",
      "4  _C5           0.0   -0.0\n",
      "5  _C6           0.0   -0.0\n",
      "6  _C7           0.0   -0.0\n",
      "7  _C8           0.0   -0.0\n",
      "8  _C9           0.0   -0.0\n"
     ]
    },
    {
     "name": "stderr",
     "output_type": "stream",
     "text": [
      "C:\\Users\\DEEP SHAH\\anaconda3\\lib\\site-packages\\pulp\\pulp.py:1650: UserWarning: Overwriting previously set objective.\n",
      "  warnings.warn(\"Overwriting previously set objective.\")\n"
     ]
    }
   ],
   "source": [
    "#To solve minimize storage constraint..we check the feasible solution\n",
    "\n",
    "# Define Objective Function: Penalize underutilization of labor more\n",
    "model += d2a + d2b \n",
    "\n",
    "# Constraint 1: Labour constraint\n",
    "model += X1 + X2 + d1b - d1a == 100\n",
    "\n",
    "# Constraint 2: Storage constraint\n",
    "model += 4 * X1 + 1 * X2 + d2b - d2a == 200\n",
    "\n",
    "# Constraint 3: Profit constraint\n",
    "model += 2 * X1 + 3 * X2 + d3b - d3a == 110\n",
    "\n",
    "# Solve Model\n",
    "model.solve()\n",
    "\n",
    "# Output results\n",
    "print(\"Model Status: {}\".format(LpStatus[model.status]))\n",
    "print(\"Objective Value = \", value(model.objective))\n",
    "\n",
    "# Print variable values\n",
    "for v in model.variables():\n",
    "    print(v.name, \"=\", v.varValue)\n",
    "\n",
    "# Compute profit using the solved values of X1 and X2\n",
    "profit_value = 2 * X1.varValue + 3 * X2.varValue\n",
    "print(\"Profit = \", profit_value)\n",
    "\n",
    "# Shadow prices and slacks for each constraint\n",
    "constraints_data = [{'Name': name, 'Shadow Price': c.pi, 'Slack': c.slack} for name, c in model.constraints.items()]\n",
    "print(pd.DataFrame(constraints_data))\n",
    "\n"
   ]
  },
  {
   "cell_type": "code",
   "execution_count": 32,
   "id": "6045ae7b",
   "metadata": {
    "ExecuteTime": {
     "end_time": "2024-10-23T11:19:09.104331Z",
     "start_time": "2024-10-23T11:19:09.073326Z"
    }
   },
   "outputs": [
    {
     "name": "stdout",
     "output_type": "stream",
     "text": [
      "Model Status: Optimal\n",
      "Objective Value =  1.0\n",
      "X1 = 33.0\n",
      "X2 = 68.0\n",
      "d1a = 1.0\n",
      "d1b = 0.0\n",
      "d2a = 0.0\n",
      "d2b = 0.0\n",
      "d3a = 160.0\n",
      "d3b = 0.0\n",
      "Profit =  270.0\n",
      "    Name  Shadow Price  Slack\n",
      "0    _C1           0.0   -0.0\n",
      "1    _C2           0.0   -0.0\n",
      "2    _C3           0.0   -0.0\n",
      "3    _C4           0.0   -0.0\n",
      "4    _C5           0.0   -0.0\n",
      "5    _C6           0.0   -0.0\n",
      "6    _C7           0.0   -0.0\n",
      "7    _C8           0.0   -0.0\n",
      "8    _C9           0.0   -0.0\n",
      "9   _C10           0.0   -0.0\n",
      "10  _C11           0.0   -0.0\n",
      "11  _C12           0.0   -0.0\n",
      "12  _C13           0.0   -0.0\n"
     ]
    },
    {
     "name": "stderr",
     "output_type": "stream",
     "text": [
      "C:\\Users\\DEEP SHAH\\anaconda3\\lib\\site-packages\\pulp\\pulp.py:1650: UserWarning: Overwriting previously set objective.\n",
      "  warnings.warn(\"Overwriting previously set objective.\")\n"
     ]
    }
   ],
   "source": [
    "#Then we check the second constraint..labour\n",
    "#To solve minimize storage constraint..we check the feasible solution\n",
    "\n",
    "# Define Objective Function: Penalize underutilization of labor more\n",
    "model += d1a + d1b \n",
    "\n",
    "# Constraint 1: Labour constraint\n",
    "model += X1 + X2 + d1b - d1a == 100\n",
    "\n",
    "# Constraint 2: Storage constraint\n",
    "model += 4 * X1 + 1 * X2 + d2b - d2a == 200\n",
    "\n",
    "# Constraint 3: Profit constraint\n",
    "model += 2 * X1 + 3 * X2 + d3b - d3a == 110\n",
    "\n",
    "# Constraint 4: minimize storage deviation\n",
    "model += d2a + d2b ==0\n",
    "# Solve Model\n",
    "model.solve()\n",
    "\n",
    "# Output results\n",
    "print(\"Model Status: {}\".format(LpStatus[model.status]))\n",
    "print(\"Objective Value = \", value(model.objective))\n",
    "\n",
    "# Print variable values\n",
    "for v in model.variables():\n",
    "    print(v.name, \"=\", v.varValue)\n",
    "\n",
    "# Compute profit using the solved values of X1 and X2\n",
    "profit_value = 2 * X1.varValue + 3 * X2.varValue\n",
    "print(\"Profit = \", profit_value)\n",
    "\n",
    "# Shadow prices and slacks for each constraint\n",
    "constraints_data = [{'Name': name, 'Shadow Price': c.pi, 'Slack': c.slack} for name, c in model.constraints.items()]\n",
    "print(pd.DataFrame(constraints_data))\n"
   ]
  },
  {
   "cell_type": "code",
   "execution_count": 33,
   "id": "6c918af9",
   "metadata": {
    "ExecuteTime": {
     "end_time": "2024-10-23T11:19:09.135035Z",
     "start_time": "2024-10-23T11:19:09.105335Z"
    }
   },
   "outputs": [
    {
     "name": "stdout",
     "output_type": "stream",
     "text": [
      "Model Status: Optimal\n",
      "Objective Value =  160.0\n",
      "X1 = 33.0\n",
      "X2 = 68.0\n",
      "d1a = 1.0\n",
      "d1b = 0.0\n",
      "d2a = 0.0\n",
      "d2b = 0.0\n",
      "d3a = 160.0\n",
      "d3b = 0.0\n",
      "Profit =  270.0\n",
      "    Name  Shadow Price  Slack\n",
      "0    _C1           0.0   -0.0\n",
      "1    _C2           0.0   -0.0\n",
      "2    _C3           0.0   -0.0\n",
      "3    _C4           0.0   -0.0\n",
      "4    _C5           0.0   -0.0\n",
      "5    _C6           0.0   -0.0\n",
      "6    _C7           0.0   -0.0\n",
      "7    _C8           0.0   -0.0\n",
      "8    _C9           0.0   -0.0\n",
      "9   _C10           0.0   -0.0\n",
      "10  _C11           0.0   -0.0\n",
      "11  _C12           0.0   -0.0\n",
      "12  _C13           0.0   -0.0\n",
      "13  _C14           0.0   -0.0\n",
      "14  _C15           0.0   -0.0\n",
      "15  _C16           0.0   -0.0\n",
      "16  _C17           0.0   -0.0\n",
      "17  _C18           0.0   -0.0\n"
     ]
    },
    {
     "name": "stderr",
     "output_type": "stream",
     "text": [
      "C:\\Users\\DEEP SHAH\\anaconda3\\lib\\site-packages\\pulp\\pulp.py:1650: UserWarning: Overwriting previously set objective.\n",
      "  warnings.warn(\"Overwriting previously set objective.\")\n"
     ]
    }
   ],
   "source": [
    "#Then in the third scenario, we try to minimize profit deviations\n",
    "\n",
    "\n",
    "# Define Objective Function: Penalize underutilization of labor more\n",
    "model += d3a + d3b \n",
    "\n",
    "# Constraint 1: Labour constraint\n",
    "model += X1 + X2 + d1b - d1a == 100\n",
    "\n",
    "# Constraint 2: Storage constraint\n",
    "model += 4 * X1 + 1 * X2 + d2b - d2a == 200\n",
    "\n",
    "# Constraint 3: Profit constraint\n",
    "model += 2 * X1 + 3 * X2 + d3b - d3a == 110\n",
    "\n",
    "# Constraint 4: minimize storage deviation\n",
    "model += d2a + d2b ==0\n",
    "\n",
    "# Constraint 5: minimize labour deviation\n",
    "model += d1a + d1b ==1  #As deviation was 1\n",
    "# Solve Model\n",
    "model.solve()\n",
    "\n",
    "# Output results\n",
    "print(\"Model Status: {}\".format(LpStatus[model.status]))\n",
    "print(\"Objective Value = \", value(model.objective))\n",
    "\n",
    "# Print variable values\n",
    "for v in model.variables():\n",
    "    print(v.name, \"=\", v.varValue)\n",
    "\n",
    "# Compute profit using the solved values of X1 and X2\n",
    "profit_value = 2 * X1.varValue + 3 * X2.varValue\n",
    "print(\"Profit = \", profit_value)\n",
    "\n",
    "# Shadow prices and slacks for each constraint\n",
    "constraints_data = [{'Name': name, 'Shadow Price': c.pi, 'Slack': c.slack} for name, c in model.constraints.items()]\n",
    "print(pd.DataFrame(constraints_data))"
   ]
  },
  {
   "cell_type": "code",
   "execution_count": 35,
   "id": "8d7d8e43",
   "metadata": {
    "ExecuteTime": {
     "end_time": "2024-10-23T11:19:16.336192Z",
     "start_time": "2024-10-23T11:19:16.298190Z"
    }
   },
   "outputs": [
    {
     "name": "stdout",
     "output_type": "stream",
     "text": [
      "Model Status:Optimal\n",
      "Objective =  47.0\n",
      "X1 = 49.0\n",
      "X2 = 4.0\n",
      "d1a = 0.0\n",
      "d1b = 47.0\n",
      "d2a = 0.0\n",
      "d2b = 0.0\n",
      "d3a = 0.0\n",
      "d3b = 0.0\n",
      "  Name                       Constraint  shadow price  slack\n",
      "0  _C1  {X1: 1, X2: 1, d1b: 1, d1a: -1}           0.0   -0.0\n",
      "1  _C2  {X1: 4, X2: 1, d2b: 1, d2a: -1}           0.0   -0.0\n",
      "2  _C3  {X1: 2, X2: 3, d3b: 1, d3a: -1}           0.0   -0.0\n"
     ]
    }
   ],
   "source": [
    "#Vendor Selection\n",
    "from pulp import *\n",
    "import pandas as pd\n",
    "# Initialize Class, Define Vars., and Objective\n",
    "model = LpProblem(\"Warehouse_Management\",LpMaximize)\n",
    "# Initialize Class, Define Vars., and Objective\n",
    "model = LpProblem(\"Warehouse_Management\",LpMinimize)\n",
    "\n",
    "# Define variables\n",
    "X1 = LpVariable('X1', lowBound=0,cat='Integer')\n",
    "X2 = LpVariable('X2', lowBound=0,cat='Integer')\n",
    "d1a= LpVariable('d1a', lowBound=0,cat='Integer')#Labour constraint is overachieved\n",
    "d1b= LpVariable('d1b', lowBound=0,cat='Integer')#Labour constraint is underachieved\n",
    "d2a= LpVariable('d2a', lowBound=0,cat='Integer')#Storage constraint is overachieved\n",
    "d2b= LpVariable('d2b', lowBound=0,cat='Integer')#Storage constraint is underachieved\n",
    "d3a= LpVariable('d3a', lowBound=0,cat='Integer')#Profit constraint is overachieved\n",
    "d3b= LpVariable('d3b', lowBound=0,cat='Integer')#Profit constraint is underachieved\n",
    "\n",
    "# Define Objetive Function: Profit on Product X1 and X2\n",
    "model += d1a+ d1b+d2a+d2b+d3a+d3b \n",
    "\n",
    "# Constraint 1..ie labour\n",
    "model += X1 + X2 +d1b- d1a == 100 \n",
    "\n",
    "# Constraint 2 ie storage\n",
    "model += 4 * X1 + 1 * X2 + d2b -d2a == 200\n",
    "\n",
    "\n",
    "# Constraint 2 ie profit\n",
    "model += 2 * X1 + 3 * X2 + d3b -d3a == 110\n",
    "\n",
    "# Solve Model\n",
    "model.solve()\n",
    "\n",
    "print(\"Model Status:{}\".format(LpStatus[model.status]))\n",
    "print(\"Objective = \", value(model.objective))\n",
    "\n",
    "for v in model.variables():\n",
    "    print(v.name,\"=\", v.varValue)\n",
    "    \n",
    "o = [{'Name':name,'Constraint':c,'shadow price':c.pi,'slack': c.slack} for name, c in model.constraints.items()]\n",
    "\n",
    "print(pd.DataFrame(o))\n"
   ]
  },
  {
   "cell_type": "code",
   "execution_count": 43,
   "id": "41a941a5",
   "metadata": {
    "ExecuteTime": {
     "end_time": "2024-10-23T12:25:54.811743Z",
     "start_time": "2024-10-23T12:25:54.756635Z"
    }
   },
   "outputs": [
    {
     "name": "stdout",
     "output_type": "stream",
     "text": [
      "Model Status: Optimal\n",
      "Objective =  0.40237275162648295\n",
      "X1 = 0.0\n",
      "X2 = 700.0\n",
      "X3 = 500.0\n",
      "X4 = 0.0\n",
      "d1a = 10300.0\n",
      "d1b = 0.0\n",
      "d2a = 2.0\n",
      "d2b = 0.0\n",
      "d3a = 0.0\n",
      "d3b = 15.0\n",
      "  Name                                         Constraint  Shadow Price  Slack\n",
      "0  _C1  {X1: 55, X2: 40, X3: 45, X4: 50, d1b: 1, d1a: -1}           0.0   -0.0\n",
      "1  _C2  {X1: 0.04, X2: 0.01, X3: 0.02, X4: 0.06, d2b: ...           0.0   -0.0\n",
      "2  _C3  {X1: 0.85, X2: 0.95, X3: 0.98, X4: 0.9, d3b: 1...           0.0   -0.0\n",
      "3  _C4                       {X1: 1, X2: 1, X3: 1, X4: 1}           0.0   -0.0\n",
      "4  _C5                                            {X1: 1}           0.0  400.0\n",
      "5  _C6                                            {X2: 1}           0.0   -0.0\n",
      "6  _C7                                            {X3: 1}           0.0  100.0\n",
      "7  _C8                                            {X4: 1}           0.0  500.0\n",
      "8  _C9            {X1: 0.15, X2: 0.05, X3: 0.02, X4: 0.1}           0.0   51.0\n"
     ]
    }
   ],
   "source": [
    "from pulp import *\n",
    "import pandas as pd\n",
    "\n",
    "# Initialize Class, Define Vars., and Objective\n",
    "model = LpProblem(\"Warehouse_Management\", LpMinimize)\n",
    "\n",
    "# Define variables\n",
    "X1 = LpVariable('X1', lowBound=0, cat='Integer')  # Items supplied by vendor 1 \n",
    "X2 = LpVariable('X2', lowBound=0, cat='Integer')  # Items supplied by vendor 2\n",
    "X3 = LpVariable('X3', lowBound=0, cat='Integer')  # Items supplied by vendor 3 \n",
    "X4 = LpVariable('X4', lowBound=0, cat='Integer')  # Items supplied by vendor 4\n",
    "d1a = LpVariable('d1a', lowBound=0, cat='Integer')  # Price constraint overachieved\n",
    "d1b = LpVariable('d1b', lowBound=0, cat='Integer')  # Price constraint underachieved\n",
    "d2a = LpVariable('d2a', lowBound=0, cat='Integer')  # Defect constraint overachieved\n",
    "d2b = LpVariable('d2b', lowBound=0, cat='Integer')  # Defect constraint underachieved\n",
    "d3a = LpVariable('d3a', lowBound=0, cat='Integer')  # On-time delivery constraint overachieved\n",
    "d3b = LpVariable('d3b', lowBound=0, cat='Integer')  # On-time delivery constraint underachieved\n",
    "d4a = LpVariable('d4a', lowBound=0, cat='Integer')  # Reliability rate constraint overachieved\n",
    "d4b = LpVariable('d4b', lowBound=0, cat='Integer')  # Reliability rate constraint underachieved\n",
    "\n",
    "# Define Objective Function\n",
    "model += (d1a * 1 / 40200) + (d2a * 1 / 15) + (d3b * 1 / 1170)\n",
    "\n",
    "# Define Constraints\n",
    "model += 55 * X1 + 40 * X2 + 45 * X3 + 50 * X4 + d1b - d1a == 40200  # Price\n",
    "model += 0.04 * X1 + 0.01 * X2 + 0.02 * X3 + 0.06 * X4 + d2b - d2a == 15  # Defect rate\n",
    "model += 0.85 * X1 + 0.95 * X2 + 0.98 * X3 + 0.9 * X4 + d3b - d3a == 1170  # Late delivery\n",
    "model += X1 + X2 + X3 + X4 == 1200  # Total supply\n",
    "model += X1 <= 400  # Vendor 1 supply constraint\n",
    "model += X2 <= 700  # Vendor 2 supply constraint\n",
    "model += X3 <= 600  # Vendor 3 supply constraint\n",
    "model += X4 <= 500  # Vendor 4 supply constraint\n",
    "model += 0.15 * X1 + 0.05 * X2 + 0.02 * X3 + 0.1 * X4 <= 96  # Rejection rate\n",
    "\n",
    "# Solve Model\n",
    "model.solve()\n",
    "\n",
    "# Print results\n",
    "print(\"Model Status: {}\".format(LpStatus[model.status]))\n",
    "print(\"Objective = \", value(model.objective))\n",
    "\n",
    "for v in model.variables():\n",
    "    print(v.name, \"=\", v.varValue)\n",
    "\n",
    "o = [{'Name': name, 'Constraint': c, 'Shadow Price': c.pi, 'Slack': c.slack} for name, c in model.constraints.items()]\n",
    "print(pd.DataFrame(o))\n"
   ]
  },
  {
   "cell_type": "code",
   "execution_count": null,
   "id": "a48a6a34",
   "metadata": {},
   "outputs": [],
   "source": []
  }
 ],
 "metadata": {
  "kernelspec": {
   "display_name": "Python 3 (ipykernel)",
   "language": "python",
   "name": "python3"
  },
  "language_info": {
   "codemirror_mode": {
    "name": "ipython",
    "version": 3
   },
   "file_extension": ".py",
   "mimetype": "text/x-python",
   "name": "python",
   "nbconvert_exporter": "python",
   "pygments_lexer": "ipython3",
   "version": "3.9.18"
  }
 },
 "nbformat": 4,
 "nbformat_minor": 5
}
